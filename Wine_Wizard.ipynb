{
  "nbformat": 4,
  "nbformat_minor": 0,
  "metadata": {
    "colab": {
      "name": "Wine_Wizard.ipynb",
      "provenance": [],
      "collapsed_sections": [],
      "include_colab_link": true
    },
    "kernelspec": {
      "name": "python3",
      "display_name": "Python 3"
    },
    "accelerator": "TPU"
  },
  "cells": [
    {
      "cell_type": "markdown",
      "metadata": {
        "id": "view-in-github",
        "colab_type": "text"
      },
      "source": [
        "<a href=\"https://colab.research.google.com/github/Saharsh11/Wine_Wizard/blob/master/Wine_Wizard.ipynb\" target=\"_parent\"><img src=\"https://colab.research.google.com/assets/colab-badge.svg\" alt=\"Open In Colab\"/></a>"
      ]
    },
    {
      "cell_type": "code",
      "metadata": {
        "id": "7gcGOSZbpw5r",
        "colab_type": "code",
        "outputId": "e7171049-f8be-4347-e2a5-cc820c4bc19a",
        "colab": {
          "base_uri": "https://localhost:8080/",
          "height": 88
        }
      },
      "source": [
        "import pandas as pd\n",
        "import numpy as np\n",
        "import matplotlib.pyplot as plt\n",
        "import re\n",
        "from os import path\n",
        "from sklearn.cluster import KMeans\n",
        "\n",
        "from nltk.tokenize import RegexpTokenizer\n",
        "from nltk.stem.snowball import SnowballStemmer\n",
        "from sklearn.feature_extraction.text import CountVectorizer, TfidfVectorizer\n",
        "from sklearn.feature_extraction import text \n",
        "from sklearn.metrics.pairwise import linear_kernel\n",
        "\n",
        "import csv\n",
        "from csv import writer\n",
        "\n",
        "!pip install -q fuzzywuzzy\n",
        "from fuzzywuzzy import fuzz\n",
        "from fuzzywuzzy import process\n",
        "\n",
        "print(\"importing done\")"
      ],
      "execution_count": 0,
      "outputs": [
        {
          "output_type": "stream",
          "text": [
            "importing done\n"
          ],
          "name": "stdout"
        },
        {
          "output_type": "stream",
          "text": [
            "/usr/local/lib/python3.6/dist-packages/fuzzywuzzy/fuzz.py:11: UserWarning: Using slow pure-python SequenceMatcher. Install python-Levenshtein to remove this warning\n",
            "  warnings.warn('Using slow pure-python SequenceMatcher. Install python-Levenshtein to remove this warning')\n"
          ],
          "name": "stderr"
        }
      ]
    },
    {
      "cell_type": "markdown",
      "metadata": {
        "id": "u0dzJn7HGji2",
        "colab_type": "text"
      },
      "source": [
        "Using of fuzzy wuzzy to compare words of wine searched in the data."
      ]
    },
    {
      "cell_type": "markdown",
      "metadata": {
        "id": "mmEspks3lD3A",
        "colab_type": "text"
      },
      "source": [
        "Adding .CSV file to the system and pointing towards its header"
      ]
    },
    {
      "cell_type": "code",
      "metadata": {
        "id": "0fowVAtJR_ZL",
        "colab_type": "code",
        "colab": {}
      },
      "source": [
        "wine = pd.read_csv('WineData.csv',index_col=0)\n",
        "sample = wine.sample(n=501, random_state=21)\n",
        "sample = sample.reset_index()\n",
        "try_wine = wine"
      ],
      "execution_count": 0,
      "outputs": []
    },
    {
      "cell_type": "markdown",
      "metadata": {
        "id": "6QUnbKQOC67B",
        "colab_type": "text"
      },
      "source": [
        "Creating global variables which will be used throughout the notebook. **Flavors** contains major flavor written in despcription, **drinkType** defining the alcohol content required by the user, **wineType** defining the type of wine as per data provided."
      ]
    },
    {
      "cell_type": "code",
      "metadata": {
        "id": "lQ42pdbyC5NT",
        "colab_type": "code",
        "colab": {}
      },
      "source": [
        "flavors = ['coffee','spice','fruit','floral','herb','cream','pepper',\n",
        "            'chocolate','petrol','tabacco','black current','berry',\n",
        "            'vanilla','diesel']\n",
        "\n",
        "drinkType = ['light','medium','heavy']\n",
        "\n",
        "wineType = {1: 'red',2: 'white',3: 'sparkling'}"
      ],
      "execution_count": 0,
      "outputs": []
    },
    {
      "cell_type": "markdown",
      "metadata": {
        "id": "7XOPXhIx3Dip",
        "colab_type": "text"
      },
      "source": [
        "Created s-words list so that we can skip these words while searching in description of wine.\n",
        "the use of snowballStemmer is to "
      ]
    },
    {
      "cell_type": "code",
      "metadata": {
        "id": "gQtzXWK0H3q9",
        "colab_type": "code",
        "colab": {}
      },
      "source": [
        "s_words = ['wine', 'flavor', 'flavors', 'notes', 'offers', \n",
        "                            'enjoy', 'drink', 'bottling','really', 'reveal',\n",
        "                            'picked', 'partner', 'thanks', 'grown', 'gain',\n",
        "                            'thanks', 'percentage', 'buy', 'mid', 'gain',\n",
        "                            'bottle', 'amid', 'available','come', 'aspect',\n",
        "                            'try', 'make']\n",
        "\n",
        "stemmer = SnowballStemmer('english')\n",
        "tokenizer = RegexpTokenizer(r'[a-zA-Z\\']+')\n",
        "\n",
        "def tokenize(text):\n",
        "    return [stemmer.stem(word) for word in tokenizer.tokenize(text.lower())]\n"
      ],
      "execution_count": 0,
      "outputs": []
    },
    {
      "cell_type": "markdown",
      "metadata": {
        "id": "Qah_EE_e1FA4",
        "colab_type": "text"
      },
      "source": [
        "Now taking user details from the user."
      ]
    },
    {
      "cell_type": "code",
      "metadata": {
        "id": "kNSHvzMl5BxL",
        "colab_type": "code",
        "colab": {}
      },
      "source": [
        "def append_list_as_row(file_name, list_of_elem):\n",
        "    # Open file in append mode\n",
        "    with open(file_name, 'a+', newline='') as write_obj:\n",
        "        # Create a writer object from csv module\n",
        "        csv_writer = writer(write_obj)\n",
        "        # Add contents of list as last row in the csv file\n",
        "        csv_writer.writerow(list_of_elem)\n",
        "        \n"
      ],
      "execution_count": 0,
      "outputs": []
    },
    {
      "cell_type": "code",
      "metadata": {
        "id": "47H5MCKBRcBP",
        "colab_type": "code",
        "outputId": "d0332bcb-f592-4519-93a1-54ea2879d465",
        "colab": {
          "base_uri": "https://localhost:8080/",
          "height": 74
        }
      },
      "source": [
        "#Created Vectorizer for the recommendation system\n",
        "tf = TfidfVectorizer(stop_words=s_words,tokenizer=tokenize, max_features = 501)\n",
        "tf_matrix = tf.fit_transform(wine['description'].values.astype('U'))\n",
        "tf_matrix\n",
        "\n",
        "cosineSim = linear_kernel(tf_matrix, tf_matrix) \n",
        "cosine = pd.DataFrame(cosineSim)\n",
        "#cosine.head(10) #printing first 10 rows of the matrix\n",
        "indices = pd.Series(wine.index,index = wine['title']).drop_duplicates()\n"
      ],
      "execution_count": 0,
      "outputs": [
        {
          "output_type": "stream",
          "text": [
            "/usr/local/lib/python3.6/dist-packages/sklearn/feature_extraction/text.py:385: UserWarning: Your stop_words may be inconsistent with your preprocessing. Tokenizing the stop words generated tokens ['avail', 'bottl', 'note', 'offer', 'percentag', 'pick', 'realli', 'thank', 'tri'] not in stop_words.\n",
            "  'stop_words.' % sorted(inconsistent))\n"
          ],
          "name": "stderr"
        }
      ]
    },
    {
      "cell_type": "code",
      "metadata": {
        "id": "hMZ4Y8e3V_qV",
        "colab_type": "code",
        "colab": {}
      },
      "source": [
        "#For matching wine names with previously entered wine\n",
        "#print(wine)\n",
        "wine1=wine\n",
        "#print(len(wine))\n",
        "def get_choice_by_ingredient(k1,win):\n",
        "  print('win:',len(win))\n",
        "  a=list()\n",
        "  b=list()\n",
        "  c=list()\n",
        "  #The choice with whom we are matching\n",
        "  ch = win['description']\n",
        "  ti = win['title']\n",
        "  print('ch:',len(ch),'ti:',len(ti))\n",
        "  #extracting the names of wine that are matched or are similar to given name.\n",
        "  i = -1\n",
        "  j=0\n",
        "  for txt in ch:\n",
        "    i+=1\n",
        "    option = fuzz.token_set_ratio(k1,txt)\n",
        "    if(option == 100):\n",
        "      b.append(ch[i])\n",
        "      a.append(ti[i])\n",
        "      c.append(i)\n",
        "    else:\n",
        "      continue\n",
        "  return win[win.description.isin(b)]\n",
        "\n",
        "#For testing of the function\n",
        "#temp= get_choice_by_ingredient('vanilla',wine)\n",
        "#print('total entries: ',len(temp),'\\n')\n",
        "#print(try_wine)\n",
        "#print(wine)\n",
        "#print(temp)\n",
        "#print('Done filtering!!')\n",
        "#wine2"
      ],
      "execution_count": 0,
      "outputs": []
    },
    {
      "cell_type": "code",
      "metadata": {
        "id": "jTje2IP-cIPK",
        "colab_type": "code",
        "outputId": "efb383ff-545b-4b69-b512-4670d2eb5071",
        "colab": {
          "base_uri": "https://localhost:8080/",
          "height": 35
        }
      },
      "source": [
        "#Function to filter the dataset filtering in terms of ingerdients.\n",
        "print('enteries in wine1: ',len(wine1)) #Displaying total entries in the dataset\n",
        "def check_multi_ingredients(wine):\n",
        "  flavors = ['coffee','spice','fruit','floral','herb','cream','pepper',\n",
        "            'chocolate','petrol','tabacco','black current','berry',\n",
        "            'vanilla','diesel']\n",
        "  added_flavor = []\n",
        "  t = True\n",
        "  sample_wine = wine #copy of dataset\n",
        "  while(t):\n",
        "    for flvr in flavors:\n",
        "     print('| ',flvr,' | ')\n",
        "    flavor = input('Enter from following flavors: ')\n",
        "    if flavor in flavors:\n",
        "      added_flavor.append(flavor)\n",
        "      flavors.remove(flavor)\n",
        "      rslt_wine = get_choice_by_ingredient(flavor, sample_wine)\n",
        "      print('total entries after filtering: ',len(rslt_wine),'\\n')\n",
        "    else:\n",
        "      print('please enter proper flavor name from above.')\n",
        "    if(input('want to add more flavor(y/n):').casefold()=='n'):\n",
        "      t=False\n",
        "\n",
        "  return rslt_wine\n",
        "\n",
        "#result_wine = check_multi_ingredients(wine)\n",
        "#print('total entries in new Dataset: ',len(result_wine),'\\n')\n",
        "#print('Done filtering!!')"
      ],
      "execution_count": 0,
      "outputs": [
        {
          "output_type": "stream",
          "text": [
            "enteries in wine1:  501\n"
          ],
          "name": "stdout"
        }
      ]
    },
    {
      "cell_type": "code",
      "metadata": {
        "id": "faVI2HUjr_GH",
        "colab_type": "code",
        "colab": {}
      },
      "source": [
        "#wine = result_wine\n",
        "#Defining clusters of dataset\n",
        "def alcohol_per(val, wine):\n",
        "  winelight = wine[wine['alcohol_percentage']<=13.0]\n",
        "  winemedium = wine[(16.0 >= wine['alcohol_percentage']) & (wine['alcohol_percentage']>13.0)]\n",
        "  wineheavy = wine[wine['alcohol_percentage'] > 16.0]\n",
        "\n",
        "  if(val == '1'):\n",
        "    return winelight\n",
        "  elif(val == '3'):\n",
        "    return wineheavy\n",
        "  else:\n",
        "    return winemedium\n",
        "#wine = wine2\n",
        "\n",
        "#Storing data\n",
        "#data = [name, age, gender, weight, country, alcoholType]\n",
        " \n",
        "#Append a list as new line to an old csv file\n",
        "#append_list_as_row('PersonInfo.csv', data)\n",
        "\n",
        "#wine = alcohol_per(val)\n",
        "#print('total wine items selected: ',len(wine))"
      ],
      "execution_count": 0,
      "outputs": []
    },
    {
      "cell_type": "code",
      "metadata": {
        "id": "Tg1MqghTUIuR",
        "colab_type": "code",
        "colab": {}
      },
      "source": [
        "#single wine name as per points\n",
        "def single_per_points(win):\n",
        "  win = win.sort_values(by='alcohol_percentage',ascending=False)\n",
        "  win = win.sort_values(by = 'points',ascending=False)\n",
        "  w1 = win.head(1)\n",
        "  return w1\n",
        "\n",
        "#winePoints = single_per_points(wine)\n",
        "#print('Wine by points: ')\n",
        "#print(winePoints['title'])\n",
        "\n",
        "#single wine name as per price\n",
        "def single_per_price(win):\n",
        "  win = win.sort_values(by='alcohol_percentage',ascending=False)\n",
        "  win = win.sort_values(by = 'price',ascending=True)\n",
        "  w1 = win.head(1)\n",
        "  return w1\n",
        "\n",
        "#winePrice = single_per_price(wine)\n",
        "#print('Wine by price: ')\n",
        "#print(winePrice['title'])"
      ],
      "execution_count": 0,
      "outputs": []
    },
    {
      "cell_type": "code",
      "metadata": {
        "id": "FYSDnjZbvwpI",
        "colab_type": "code",
        "colab": {}
      },
      "source": [
        "#recommending 10 wine names as per points\n",
        "#w = winePoints['title'].tolist()\n",
        "#title = w[0]\n",
        "def get_recommendations(title, cosineSim=cosineSim):\n",
        "  idx = indices[title]\n",
        "  simScores = list(enumerate(cosineSim[idx]))\n",
        "  simScores = sorted(simScores, key=lambda x: x[1], reverse=True)\n",
        "  simScores = simScores[0:5] #included the 0-th index\n",
        "  wineIndices = [i[0] for i in simScores]\n",
        "  return sample['title'].iloc[wineIndices]\n",
        "\n",
        "#results = get_recommendations(title)\n",
        "#results = results.tolist()\n",
        "#results1 = try_wine[try_wine['title'].isin(results)]\n",
        "#print('Recommendations as per Points: \\n')\n",
        "#for result in results1:\n",
        " # print(result,'\\n')"
      ],
      "execution_count": 0,
      "outputs": []
    },
    {
      "cell_type": "code",
      "metadata": {
        "id": "RIQeZJ3PSyrH",
        "colab_type": "code",
        "colab": {}
      },
      "source": [
        "#recommending 10 wine names as per price\n",
        "#w = winePrice['title'].tolist()\n",
        "#title = w[0]\n",
        "def get_recommendations(title, cosineSim=cosineSim):\n",
        "  idx = indices[title]\n",
        "  simScores = list(enumerate(cosineSim[idx]))\n",
        "  simScores = sorted(simScores, key=lambda x: x[1], reverse=True)\n",
        "  simScores = simScores[0:5] #included the 0-th index \n",
        "  wineIndices = [i[0] for i in simScores]\n",
        "  return sample['title'].iloc[wineIndices]\n",
        "\n",
        "#results = get_recommendations(title)\n",
        "#results = results.tolist()\n",
        "#print('Recoomendations as per Price: \\n')\n",
        "#for result in results:\n",
        " # print(result,'\\n')"
      ],
      "execution_count": 0,
      "outputs": []
    },
    {
      "cell_type": "code",
      "metadata": {
        "id": "RV12oCkfofS3",
        "colab_type": "code",
        "colab": {}
      },
      "source": [
        "\n",
        "def get_ch(key):\n",
        "  ch = sample['title']\n",
        "  option = fuzz.token_set_ratio(key,ch)\n",
        "  if(option<50):\n",
        "    matches = (process.extract(key, ch, scorer = fuzz.ratio, limit = 5))\n",
        "    print('Choose among these 5 wines:')\n",
        "    \n",
        "    print(\"\\n\".join(map(str, matches)))\n",
        "    inp = input('\\nEnter wine: ')\n",
        "  else:\n",
        "    inp = key\n",
        "  return process.extractOne(inp, ch, scorer = fuzz.token_sort_ratio, score_cutoff = 50)[0]"
      ],
      "execution_count": 0,
      "outputs": []
    },
    {
      "cell_type": "code",
      "metadata": {
        "id": "PBaFBZDYcSJN",
        "colab_type": "code",
        "outputId": "f8818b05-c6db-4cfb-997a-cedd69b8ff5c",
        "colab": {
          "base_uri": "https://localhost:8080/",
          "height": 1000
        }
      },
      "source": [
        "#Taking input from the user\n",
        "wine = try_wine\n",
        "name = str(input(\"Name: \"))\n",
        "age = input(\"Age: \")\n",
        "gender = input(\"M=0, F=1 Gender: \")\n",
        "weight = input(\"Weight: \")\n",
        "country = str(input(\"Country: \"))\n",
        "\n",
        "cho = input('Do you have any wine preference(y/n):')\n",
        "if(cho is 'y'):\n",
        "  title = get_ch(input('Enter the wine you have tried:'))\n",
        "  results = get_recommendations(title)\n",
        "  results = results.tolist()\n",
        "\n",
        "  print('Recommendations as per Points: \\n')\n",
        "  for result in results:\n",
        "    print(result,'\\n')\n",
        "\n",
        "  results = get_recommendations(title)\n",
        "  results = results.tolist()\n",
        "  print('Recoomendations as per Price: \\n')\n",
        "  for result in results:\n",
        "    print(result,'\\n')\n",
        "else:\n",
        "  result_wine = check_multi_ingredients(wine)\n",
        "  print('total entries in new Dataset: ',len(result_wine),'\\n')\n",
        "  print('Done filtering!!')\n",
        "  \n",
        "  print('|  light  | 1 | ','\\n', '|  medium  | 2 | ','\\n', '|  heavy  | 3 |','\\n')\n",
        "  val = input('enter the alcohol consumption level(1/2/3): ')\n",
        "  wine = alcohol_per(val, result_wine)\n",
        "  print('total wine items selected: ',len(wine))\n",
        "\n",
        "  winePoints = single_per_points(wine)\n",
        "  print('Wine by points: ')\n",
        "  print(winePoints['title'])\n",
        "\n",
        "  winePrice = single_per_price(wine)\n",
        "  print('Wine by price: ')\n",
        "  print(winePrice['title'])\n",
        "\n",
        "  results = get_recommendations(winePoints['title'])\n",
        "  results = results.tolist()\n",
        "\n",
        "  print('Recommendations as per Points:')\n",
        "  for result in results:\n",
        "    print(result)\n",
        "  print('\\n')\n",
        "\n",
        "  results = get_recommendations(winePrice['title'])\n",
        "  results = results.tolist()\n",
        "  print('Recoomendations as per Price:')\n",
        "  for result in results:\n",
        "    print(result)\n",
        "  print('\\n')\n",
        "\n",
        "#Append a list as new line to an old csv file\n",
        "#data = [name, age, gender, weight, country, alcoholType,]\n",
        "#append_list_as_row('PersonInfo.csv', data)"
      ],
      "execution_count": 0,
      "outputs": [
        {
          "output_type": "stream",
          "text": [
            "Name: tom\n",
            "Age: 30\n",
            "M=0, F=1 Gender: 0\n",
            "Weight: 70\n",
            "Country: India\n",
            "Do you have any wine preference(y/n):n\n",
            "|  coffee  | \n",
            "|  spice  | \n",
            "|  fruit  | \n",
            "|  floral  | \n",
            "|  herb  | \n",
            "|  cream  | \n",
            "|  pepper  | \n",
            "|  chocolate  | \n",
            "|  petrol  | \n",
            "|  tabacco  | \n",
            "|  black current  | \n",
            "|  berry  | \n",
            "|  vanilla  | \n",
            "|  diesel  | \n",
            "Enter from following flavors: fruit\n",
            "win: 501\n",
            "ch: 501 ti: 501\n",
            "total entries after filtering:  169 \n",
            "\n",
            "want to add more flavor(y/n):y\n",
            "|  coffee  | \n",
            "|  spice  | \n",
            "|  floral  | \n",
            "|  herb  | \n",
            "|  cream  | \n",
            "|  pepper  | \n",
            "|  chocolate  | \n",
            "|  petrol  | \n",
            "|  tabacco  | \n",
            "|  black current  | \n",
            "|  berry  | \n",
            "|  vanilla  | \n",
            "|  diesel  | \n",
            "Enter from following flavors: berry\n",
            "win: 501\n",
            "ch: 501 ti: 501\n",
            "total entries after filtering:  66 \n",
            "\n",
            "want to add more flavor(y/n):n\n",
            "total entries in new Dataset:  66 \n",
            "\n",
            "Done filtering!!\n",
            "|  light  | 1 |  \n",
            " |  medium  | 2 |  \n",
            " |  heavy  | 3 | \n",
            "\n",
            "enter the alcohol consumption level(1/2/3): 2\n",
            "total wine items selected:  47\n",
            "Wine by points: \n",
            "index\n",
            "290    Chateau Lafon-Rochet 2011  Saint-Estephe\n",
            "Name: title, dtype: object\n",
            "Wine by price: \n",
            "index\n",
            "231    Andean Sky 2007 Bonarda (Mendoza)\n",
            "Name: title, dtype: object\n",
            "Recommendations as per Points:\n",
            "Livio Felluga 2009 Friulano (Colli Orientali del Friuli)\n",
            "\n",
            "\n",
            "Recoomendations as per Price:\n",
            "Livio Felluga 2009 Friulano (Colli Orientali del Friuli)\n",
            "\n",
            "\n"
          ],
          "name": "stdout"
        }
      ]
    }
  ]
}